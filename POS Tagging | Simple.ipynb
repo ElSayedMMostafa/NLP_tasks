{
 "cells": [
  {
   "cell_type": "markdown",
   "metadata": {},
   "source": [
    "**University of Science and Technology UST,  Zewail City**<br>\n",
    "**CIE Program**<br>\n",
    "**Natural Language Processing - CIE 555**<br>\n",
    "**Lab Assignment #3 - POS Tagging**<br>"
   ]
  },
  {
   "cell_type": "markdown",
   "metadata": {},
   "source": [
    "**Student Name:** Elsayed Mohammed Elsayed Mostafa <br>\n",
    "**Student ID:**   201700316"
   ]
  },
  {
   "cell_type": "markdown",
   "metadata": {},
   "source": [
    "# Imports "
   ]
  },
  {
   "cell_type": "code",
   "execution_count": 5,
   "metadata": {},
   "outputs": [
    {
     "name": "stderr",
     "output_type": "stream",
     "text": [
      "[nltk_data] Downloading package dependency_treebank to\n",
      "[nltk_data]     /home/elsayed/nltk_data...\n",
      "[nltk_data]   Unzipping corpora/dependency_treebank.zip.\n"
     ]
    },
    {
     "data": {
      "text/plain": [
       "True"
      ]
     },
     "execution_count": 5,
     "metadata": {},
     "output_type": "execute_result"
    }
   ],
   "source": [
    "import nltk\n",
    "nltk.download('dependency_treebank')"
   ]
  },
  {
   "cell_type": "code",
   "execution_count": 6,
   "metadata": {
    "id": "zAsU-lGrD2yD"
   },
   "outputs": [],
   "source": [
    "from __future__ import division\n",
    "import sys\n",
    "from pprint import pprint\n",
    "from math import log\n",
    "from collections import defaultdict\n",
    "import matplotlib.pyplot as plt\n",
    "import numpy as np \n",
    "from numpy.random import random_sample\n",
    "import nltk\n",
    "from nltk import FreqDist, ConditionalFreqDist\n",
    "from nltk.tag import *\n",
    "from nltk.corpus import dependency_treebank\n",
    "from nltk.tag.hmm import HiddenMarkovModelTagger"
   ]
  },
  {
   "cell_type": "markdown",
   "metadata": {},
   "source": [
    "# Helper Functions"
   ]
  },
  {
   "cell_type": "code",
   "execution_count": 60,
   "metadata": {},
   "outputs": [],
   "source": [
    "def plot_histogram(lcPairs):\n",
    "    '''A very general function that takes either a dictionary\n",
    "    or a list of label,count pairs (values or counts need to be\n",
    "    numbers), and makes a bar plot showing the count for each label.\n",
    "    '''\n",
    "    plt.clf()\n",
    "    if isinstance(lcPairs, dict):\n",
    "        lcPairs = list(lcPairs.items())\n",
    "    #arange() is like range() but returns a numpy array instead of a list\n",
    "    x_pos = np.arange(len(lcPairs)) \n",
    "    #first arg (x_pos) is the position of left hand side of bar\n",
    "    #second arg (counts) is the height of bar\n",
    "    (labels,counts)=zip(*lcPairs)\n",
    "    plt.bar(x_pos,counts,width=1)\n",
    "    #bar width is 1, so put labels at left side + .5 (middle of bar), rotated slightly\n",
    "    plt.xticks(x_pos+.5, labels, rotation=90)\n",
    "    plt.ylim([0,1.1*max(counts)])\n",
    "    plt.show()"
   ]
  },
  {
   "cell_type": "code",
   "execution_count": 61,
   "metadata": {},
   "outputs": [],
   "source": [
    "def tag_distribution(sents):\n",
    "    '''Takes tagged sentences extracted using nltk libraries\n",
    "    as input and returns a frequency distribution of pos tags\n",
    "    '''\n",
    "    fd=defaultdict(int)\n",
    "    for s in sents:\n",
    "        for (w,t) in s:\n",
    "            fd[t]+=1\n",
    "    fd = sorted(fd.items(), key=lambda x: x[1], reverse = True)\n",
    "    return fd"
   ]
  },
  {
   "cell_type": "code",
   "execution_count": 62,
   "metadata": {},
   "outputs": [],
   "source": [
    "def word_tag_distribution(sents):\n",
    "    ''' Takes tagged sentences extracted using nltk libraries\n",
    "    as input and returns the conditional frequency distribution of word and pos tags\n",
    "    '''\n",
    "    # Instead of using defaultdict, do things a step at a time:\n",
    "    cfd = {}\n",
    "    # For each word,tag tuple in each sentence,\n",
    "    #   create an fd if necessary, and update the tag count\n",
    "    for sent in sents:\n",
    "        for (w,t) in sent:\n",
    "            fd = cfd.setdefault(w,{}) # either get the value,\n",
    "                                    #  or give it an empty dictionary as value\n",
    "            if t in fd:\n",
    "                # a known key\n",
    "                cfd[w][t] += 1 \n",
    "            else:\n",
    "                # not previously seen\n",
    "                cfd[w][t] = 1 \n",
    "    return cfd"
   ]
  },
  {
   "cell_type": "code",
   "execution_count": 63,
   "metadata": {},
   "outputs": [],
   "source": [
    "def ut1(word,cfd,bpos):\n",
    "    ''' Helper function for unigram_tagger.  Look up the most common tag for\n",
    "        a single word in cfd, using bpos if it's not in there.\n",
    "        Returns a pair (word, tag)'''\n",
    "    if word in cfd:\n",
    "        return sorted(cfd[word].items(), key=lambda x: x[1], reverse = True)[0][0]    \n",
    "    else:\n",
    "        return bpos "
   ]
  },
  {
   "cell_type": "code",
   "execution_count": 64,
   "metadata": {},
   "outputs": [],
   "source": [
    "def unigram_tagger(cfd, bpos, sent):\n",
    "    ''' This is a simple pos tagger. It takes conditional frequency \n",
    "    distribution (cfd) of word and its tags, and sentence as input \n",
    "    and assigns pos tags to the words in that sentence. If a word is\n",
    "    seen (present in cfd), it assigns the most frequent tag for that\n",
    "    word. For unseen words (not present in cfd), it assigns a default\n",
    "    pos tag (in this case common noun \"NN\").\n",
    "    '''\n",
    "    words = sent.rstrip().split()\n",
    "    return [ut1(w,cfd,bpos) for w in words]"
   ]
  },
  {
   "cell_type": "markdown",
   "metadata": {},
   "source": [
    "## POS Tagging Procedure"
   ]
  },
  {
   "cell_type": "code",
   "execution_count": 65,
   "metadata": {},
   "outputs": [
    {
     "data": {
      "text/plain": [
       "[[('Pierre', 'NNP'), ('Vinken', 'NNP'), (',', ','), ('61', 'CD'), ('years', 'NNS'), ('old', 'JJ'), (',', ','), ('will', 'MD'), ('join', 'VB'), ('the', 'DT'), ('board', 'NN'), ('as', 'IN'), ('a', 'DT'), ('nonexecutive', 'JJ'), ('director', 'NN'), ('Nov.', 'NNP'), ('29', 'CD'), ('.', '.')], [('Mr.', 'NNP'), ('Vinken', 'NNP'), ('is', 'VBZ'), ('chairman', 'NN'), ('of', 'IN'), ('Elsevier', 'NNP'), ('N.V.', 'NNP'), (',', ','), ('the', 'DT'), ('Dutch', 'NNP'), ('publishing', 'VBG'), ('group', 'NN'), ('.', '.')], ...]"
      ]
     },
     "execution_count": 65,
     "metadata": {},
     "output_type": "execute_result"
    }
   ],
   "source": [
    "# Extracting tagged sentences using NLTK libraries from the tesents datastructure..\n",
    "tsents = dependency_treebank.tagged_sents()\n",
    "# Let's have a quick look on tsents\n",
    "tsents"
   ]
  },
  {
   "cell_type": "markdown",
   "metadata": {},
   "source": [
    "## Tags distribution"
   ]
  },
  {
   "cell_type": "code",
   "execution_count": 66,
   "metadata": {},
   "outputs": [
    {
     "data": {
      "image/png": "[encoded data removed]",
      "text/plain": [
       "<Figure size 432x288 with 1 Axes>"
      ]
     },
     "metadata": {
      "needs_background": "light"
     },
     "output_type": "display_data"
    }
   ],
   "source": [
    "tags_dist = tag_distribution(tsents)\n",
    "plot_histogram(tags_dist)"
   ]
  },
  {
   "cell_type": "markdown",
   "metadata": {},
   "source": [
    "## Word tag distribution"
   ]
  },
  {
   "cell_type": "code",
   "execution_count": 67,
   "metadata": {},
   "outputs": [
    {
     "name": "stdout",
     "output_type": "stream",
     "text": [
      "tags for book are: {'NN': 7, 'VB': 1}\n"
     ]
    }
   ],
   "source": [
    "word_tag_dist = word_tag_distribution(tsents)\n",
    "#print(word_tag_dist)\n",
    "print(\"tags for book are: {}\".format(word_tag_dist[\"book\"]))"
   ]
  },
  {
   "cell_type": "markdown",
   "metadata": {},
   "source": [
    "## Unigram Tagger"
   ]
  },
  {
   "cell_type": "code",
   "execution_count": 68,
   "metadata": {},
   "outputs": [
    {
     "name": "stdout",
     "output_type": "stream",
     "text": [
      "sentence is : The quick brown fox jumped over the lazy dog\n",
      "tags are: ['DT', 'JJ', 'IN', 'IN', 'VBD', 'IN', 'DT', 'IN', 'IN']\n"
     ]
    }
   ],
   "source": [
    "cfd=word_tag_dist\n",
    "bpos= tags_dist[1][0]\n",
    "sent='The quick brown fox jumped over the lazy dog'\n",
    "tag_list=unigram_tagger(cfd, bpos, sent)\n",
    "print(\"sentence is : {}\".format(sent))\n",
    "print(\"tags are: {}\".format(tag_list))"
   ]
  }
 ],
 "metadata": {
  "colab": {
   "collapsed_sections": [],
   "name": "Language Model.ipynb",
   "provenance": []
  },
  "kernelspec": {
   "display_name": "Python 3",
   "language": "python",
   "name": "python3"
  },
  "language_info": {
   "codemirror_mode": {
    "name": "ipython",
    "version": 3
   },
   "file_extension": ".py",
   "mimetype": "text/x-python",
   "name": "python",
   "nbconvert_exporter": "python",
   "pygments_lexer": "ipython3",
   "version": "3.8.5"
  }
 },
 "nbformat": 4,
 "nbformat_minor": 1
}
