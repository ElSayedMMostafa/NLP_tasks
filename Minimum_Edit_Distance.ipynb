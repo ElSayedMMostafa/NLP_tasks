{
  "nbformat": 4,
  "nbformat_minor": 0,
  "metadata": {
    "colab": {
      "name": "Minimum_Edit_Distance.ipynb",
      "provenance": [],
      "collapsed_sections": []
    },
    "kernelspec": {
      "display_name": "Python 3",
      "language": "python",
      "name": "python3"
    },
    "language_info": {
      "codemirror_mode": {
        "name": "ipython",
        "version": 3
      },
      "file_extension": ".py",
      "mimetype": "text/x-python",
      "name": "python",
      "nbconvert_exporter": "python",
      "pygments_lexer": "ipython3",
      "version": "3.8.5"
    }
  },
  "cells": [
    {
      "cell_type": "markdown",
      "metadata": {
        "id": "Qjy5RxWR_nzP"
      },
      "source": [
        "**University of Science and Technology UST,  Zewail City**<br>\n",
        "**CIE Program**<br>\n",
        "**Natural Language Processing - CIE 555**<br>\n",
        "**Lab Assignment - Minimum Edit Distance**<br>"
      ]
    },
    {
      "cell_type": "markdown",
      "metadata": {
        "id": "rN4Clyms_nza"
      },
      "source": [
        "**Student Name:** Elsayed Mohammed Elsayed Mostafa <br>\n",
        "**Student ID:**   201700316"
      ]
    },
    {
      "cell_type": "markdown",
      "metadata": {
        "id": "qX6TrRMD_nzb"
      },
      "source": [
        "# Imports"
      ]
    },
    {
      "cell_type": "code",
      "metadata": {
        "id": "zAsU-lGrD2yD"
      },
      "source": [
        "import re\n",
        "import pickle"
      ],
      "execution_count": null,
      "outputs": []
    },
    {
      "cell_type": "markdown",
      "metadata": {
        "id": "G2qLc0ht_nzc"
      },
      "source": [
        "# Helper Functions"
      ]
    },
    {
      "cell_type": "code",
      "metadata": {
        "id": "KX_-isFx_nzc"
      },
      "source": [
        "def get_key(val, dict_):\n",
        "    '''\n",
        "    This function returns the key corresponds to a specific value within a dictionary\n",
        "    \n",
        "    @parameters:\n",
        "     - val: The value to get its corresponding key in a dictionary\n",
        "     - dict_ : The dictionary to search in\n",
        "     @returns:\n",
        "     - key: The key corresponds to the value within the dictionary\n",
        "    '''\n",
        "    for key, value in dict_.items():\n",
        "         if val == value:\n",
        "                return key "
      ],
      "execution_count": null,
      "outputs": []
    },
    {
      "cell_type": "code",
      "metadata": {
        "id": "WjGy17YU_nzd"
      },
      "source": [
        "def editDistDP(str1, str2):\n",
        "    '''\n",
        "    This function calculate the minimun edit distance between two words.\n",
        "    The function is mainly implemented in https://www.geeksforgeeks.org/edit-distance-dp-5/ \n",
        "    However, I made very small change in it (at the line before end) to make the replacment weight = 2 instead of 1\n",
        "    \n",
        "    @parameters:\n",
        "     - str1, str2: The 2 strings to calculate the minimum edit distance between them.\n",
        "     @returns:\n",
        "     - dp[m][n]: The minimum edit distance.\n",
        "    '''\n",
        "    m, n = len(str1), len(str2)\n",
        "    # Create a table to store results of subproblems\n",
        "    dp = [[0 for x in range(n + 1)] for x in range(m + 1)]\n",
        " \n",
        "    # Fill d[][] in bottom up manner\n",
        "    for i in range(m + 1):\n",
        "        for j in range(n + 1):\n",
        " \n",
        "            # If first string is empty, only option is to\n",
        "            # insert all characters of second string\n",
        "            if i == 0:\n",
        "                dp[i][j] = j    # Min. operations = j\n",
        " \n",
        "            # If second string is empty, only option is to\n",
        "            # remove all characters of second string\n",
        "            elif j == 0:\n",
        "                dp[i][j] = i    # Min. operations = i\n",
        " \n",
        "            # If last characters are same, ignore last char\n",
        "            # and recur for remaining string\n",
        "            elif str1[i-1] == str2[j-1]:\n",
        "                dp[i][j] = dp[i-1][j-1]\n",
        " \n",
        "            # If last character are different, consider all\n",
        "            # possibilities and find minimum\n",
        "            else:\n",
        "                dp[i][j] = 1 + min(dp[i][j-1],         # Insert\n",
        "                                   dp[i-1][j],         # Remove\n",
        "                                   1 + dp[i-1][j-1])   # Replace\n",
        " \n",
        "    return dp[m][n]"
      ],
      "execution_count": null,
      "outputs": []
    },
    {
      "cell_type": "code",
      "metadata": {
        "id": "2Oz89v-h_nze"
      },
      "source": [
        "def get_min_edit_distance(word, vocab):\n",
        "    '''\n",
        "    This function gets the most correct word in a vocabulary compared with a passed word.\n",
        "    \n",
        "    @parameters:\n",
        "     - word: The word to check in the vocabulary and get its nearest correct word\n",
        "     - vocab: The vocabulry list to search in\n",
        "     @returns:\n",
        "     - tuple: (the nearest correct word, the minimum edit distance).\n",
        "    '''\n",
        "    distances_dict = {x: editDistDP(word,x) for x in vocab}\n",
        "    min_distance = min(distances_dict.values())\n",
        "    return get_key(min_distance, distances_dict), min_distance"
      ],
      "execution_count": null,
      "outputs": []
    },
    {
      "cell_type": "markdown",
      "metadata": {
        "id": "UOoDeds7_nzf"
      },
      "source": [
        "# Testing"
      ]
    },
    {
      "cell_type": "markdown",
      "metadata": {
        "id": "lGQgXTUw_nzf"
      },
      "source": [
        "## Reading the files"
      ]
    },
    {
      "cell_type": "code",
      "metadata": {
        "id": "LcJEpg68_nzf"
      },
      "source": [
        "# Reading the vocabulary list\n",
        "pkl_file = 'vocab.pkl'\n",
        "infile = open(pkl_file,'rb')\n",
        "vocab = pickle.load(infile)"
      ],
      "execution_count": null,
      "outputs": []
    },
    {
      "cell_type": "code",
      "metadata": {
        "id": "q4XRjXPh_nzf"
      },
      "source": [
        "#Reading the document to correct\n",
        "doc_name = \"doc.txt\"\n",
        "f = open(doc_name, \"r\")\n",
        "Dataset = []\n",
        "for line in f:\n",
        "    line = re.sub(r'\\n',\"\",line)\n",
        "    if line == '':\n",
        "        continue\n",
        "    Dataset.append(line)"
      ],
      "execution_count": null,
      "outputs": []
    },
    {
      "cell_type": "markdown",
      "metadata": {
        "id": "NskkExBo_nzg"
      },
      "source": [
        "**By the way, the document is the translation of the arabic poem (لا تصالح) by Amal Donkol**\n",
        "For watching: https://www.youtube.com/watch?v=JESeGfKHIDs"
      ]
    },
    {
      "cell_type": "markdown",
      "metadata": {
        "id": "ZqCtWI29_nzg"
      },
      "source": [
        "## Correction"
      ]
    },
    {
      "cell_type": "code",
      "metadata": {
        "id": "4g1exr-p_nzh"
      },
      "source": [
        "correction_dict = {}\n",
        "# Loop over each sentence\n",
        "for sentence in Dataset:\n",
        "    #Pre-processing step to remove the fullstops and commas\n",
        "    sentence = re.sub(',|\\.','',sentence)\n",
        "    #Loop over each word within the sentence\n",
        "    for word in sentence.split(' '):\n",
        "        # Get the min. edit distance with the correction word\n",
        "        correction = get_min_edit_distance(word, vocab)\n",
        "        # Ignore, if the word is right (exists in the vocabulary list)\n",
        "        if correction[1] != 0:\n",
        "            correction_dict[word] = correction[0]"
      ],
      "execution_count": null,
      "outputs": []
    },
    {
      "cell_type": "code",
      "metadata": {
        "id": "1IML8xGt_nzh",
        "outputId": "e46845fa-905d-4653-cfce-80cc95ec58ff"
      },
      "source": [
        "# Printing the results\n",
        "correction_dict"
      ],
      "execution_count": null,
      "outputs": [
        {
          "output_type": "execute_result",
          "data": {
            "text/plain": [
              "{'wil': 'will',\n",
              " 'medaite': 'mediate',\n",
              " 'considration': 'consideration',\n",
              " 'dessert': 'desert'}"
            ]
          },
          "metadata": {
            "tags": []
          },
          "execution_count": 8
        }
      ]
    },
    {
      "cell_type": "markdown",
      "metadata": {
        "id": "e7YYg0Bh_nzi"
      },
      "source": [
        "**Hence, there are 4 incorrect words ('wil','medaite', 'considration','dessert') and their correct words are ('will','mediate','consideration','desert').**"
      ]
    }
  ]
}