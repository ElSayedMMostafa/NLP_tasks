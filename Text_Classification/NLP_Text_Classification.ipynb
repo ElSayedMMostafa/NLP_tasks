{
  "nbformat": 4,
  "nbformat_minor": 0,
  "metadata": {
    "colab": {
      "name": "NLP Text Classification.ipynb",
      "provenance": [],
      "collapsed_sections": [
        "1xpO-gbzEAz-",
        "--WqsSW2VLwN",
        "TLZTzhLzUBGy",
        "sK70b3TyUNzf",
        "kUmmL9UwUXz1",
        "SrV-9boHUcnV",
        "_b_CQKJL6yyy",
        "5uMjDHgNj7f0"
      ],
      "toc_visible": true
    },
    "kernelspec": {
      "name": "python3",
      "display_name": "Python 3"
    },
    "language_info": {
      "name": "python"
    }
  },
  "cells": [
    {
      "cell_type": "markdown",
      "metadata": {
        "id": "XMKJfVwblRrs"
      },
      "source": [
        "**University of Science and Technology UST,  Zewail City**<br>\n",
        "**Communications and Information Engineering Program**<br>\n",
        "**Natural Language Processing - CIE 553**<br>\n",
        "**Text Classification Lab**<br>\n"
      ]
    },
    {
      "cell_type": "markdown",
      "metadata": {
        "id": "oNfPWt3emAnb"
      },
      "source": [
        "*Name:* **Elsayed Mohammed Elsayed Mostafa**<br>\n",
        "*ID:* **201700316**<br>\n",
        "*E-mail:* s-ayedmmostafa@zewailcity.edy.eg<br>"
      ]
    },
    {
      "cell_type": "markdown",
      "metadata": {
        "id": "1xpO-gbzEAz-"
      },
      "source": [
        "## **Imports and Uploads**"
      ]
    },
    {
      "cell_type": "code",
      "metadata": {
        "colab": {
          "base_uri": "https://localhost:8080/"
        },
        "id": "PdPGX0HfTC6T",
        "outputId": "1632979e-5775-4bb0-a29e-ac16f90b8e14"
      },
      "source": [
        "import re\n",
        "import pickle\n",
        "from sklearn.model_selection import train_test_split\n",
        "import pandas as pd\n",
        "import nltk\n",
        "from nltk.corpus import stopwords\n",
        "nltk.download('stopwords')\n",
        "nltk.download('punkt')\n",
        "from nltk.tokenize import word_tokenize\n",
        "from sklearn.feature_extraction.text import CountVectorizer\n",
        "from sklearn.naive_bayes import GaussianNB\n",
        "from sklearn.linear_model import LogisticRegression\n",
        "from imblearn.ensemble import BalancedBaggingClassifier\n",
        "from sklearn.metrics import precision_score, recall_score, accuracy_score, f1_score, confusion_matrix, classification_report"
      ],
      "execution_count": 1,
      "outputs": [
        {
          "output_type": "stream",
          "text": [
            "[nltk_data] Downloading package stopwords to /root/nltk_data...\n",
            "[nltk_data]   Package stopwords is already up-to-date!\n",
            "[nltk_data] Downloading package punkt to /root/nltk_data...\n",
            "[nltk_data]   Package punkt is already up-to-date!\n"
          ],
          "name": "stdout"
        },
        {
          "output_type": "stream",
          "text": [
            "/usr/local/lib/python3.7/dist-packages/sklearn/externals/six.py:31: FutureWarning: The module is deprecated in version 0.21 and will be removed in version 0.23 since we've dropped support for Python 2.7. Please rely on the official version of six (https://pypi.org/project/six/).\n",
            "  \"(https://pypi.org/project/six/).\", FutureWarning)\n",
            "/usr/local/lib/python3.7/dist-packages/sklearn/utils/deprecation.py:144: FutureWarning: The sklearn.neighbors.base module is  deprecated in version 0.22 and will be removed in version 0.24. The corresponding classes / functions should instead be imported from sklearn.neighbors. Anything that cannot be imported from sklearn.neighbors is now part of the private API.\n",
            "  warnings.warn(message, FutureWarning)\n",
            "/usr/local/lib/python3.7/dist-packages/sklearn/utils/deprecation.py:144: FutureWarning: The sklearn.ensemble.bagging module is  deprecated in version 0.22 and will be removed in version 0.24. The corresponding classes / functions should instead be imported from sklearn.ensemble. Anything that cannot be imported from sklearn.ensemble is now part of the private API.\n",
            "  warnings.warn(message, FutureWarning)\n",
            "/usr/local/lib/python3.7/dist-packages/sklearn/utils/deprecation.py:144: FutureWarning: The sklearn.ensemble.base module is  deprecated in version 0.22 and will be removed in version 0.24. The corresponding classes / functions should instead be imported from sklearn.ensemble. Anything that cannot be imported from sklearn.ensemble is now part of the private API.\n",
            "  warnings.warn(message, FutureWarning)\n",
            "/usr/local/lib/python3.7/dist-packages/sklearn/utils/deprecation.py:144: FutureWarning: The sklearn.ensemble.forest module is  deprecated in version 0.22 and will be removed in version 0.24. The corresponding classes / functions should instead be imported from sklearn.ensemble. Anything that cannot be imported from sklearn.ensemble is now part of the private API.\n",
            "  warnings.warn(message, FutureWarning)\n",
            "/usr/local/lib/python3.7/dist-packages/sklearn/externals/joblib/__init__.py:15: FutureWarning: sklearn.externals.joblib is deprecated in 0.21 and will be removed in 0.23. Please import this functionality directly from joblib, which can be installed with: pip install joblib. If this warning is raised when loading pickled models, you may need to re-serialize those models with scikit-learn 0.21+.\n",
            "  warnings.warn(msg, category=FutureWarning)\n"
          ],
          "name": "stderr"
        }
      ]
    },
    {
      "cell_type": "code",
      "metadata": {
        "id": "svEhd87YWGXM",
        "colab": {
          "base_uri": "https://localhost:8080/",
          "height": 204
        },
        "outputId": "478549ce-9db1-49da-e13d-96a8f208abe8"
      },
      "source": [
        "dataset = pd.read_csv('reviews.csv')\n",
        "target = dataset['reviews.rating']\n",
        "dataset.head()"
      ],
      "execution_count": 5,
      "outputs": [
        {
          "output_type": "execute_result",
          "data": {
            "text/html": [
              "<div>\n",
              "<style scoped>\n",
              "    .dataframe tbody tr th:only-of-type {\n",
              "        vertical-align: middle;\n",
              "    }\n",
              "\n",
              "    .dataframe tbody tr th {\n",
              "        vertical-align: top;\n",
              "    }\n",
              "\n",
              "    .dataframe thead th {\n",
              "        text-align: right;\n",
              "    }\n",
              "</style>\n",
              "<table border=\"1\" class=\"dataframe\">\n",
              "  <thead>\n",
              "    <tr style=\"text-align: right;\">\n",
              "      <th></th>\n",
              "      <th>reviews.rating</th>\n",
              "      <th>reviews.text</th>\n",
              "    </tr>\n",
              "  </thead>\n",
              "  <tbody>\n",
              "    <tr>\n",
              "      <th>0</th>\n",
              "      <td>1</td>\n",
              "      <td>This product so far has not disappointed. My c...</td>\n",
              "    </tr>\n",
              "    <tr>\n",
              "      <th>1</th>\n",
              "      <td>1</td>\n",
              "      <td>great for beginner or experienced person. Boug...</td>\n",
              "    </tr>\n",
              "    <tr>\n",
              "      <th>2</th>\n",
              "      <td>1</td>\n",
              "      <td>Inexpensive tablet for him to use and learn on...</td>\n",
              "    </tr>\n",
              "    <tr>\n",
              "      <th>3</th>\n",
              "      <td>1</td>\n",
              "      <td>I've had my Fire HD 8 two weeks now and I love...</td>\n",
              "    </tr>\n",
              "    <tr>\n",
              "      <th>4</th>\n",
              "      <td>1</td>\n",
              "      <td>I bought this for my grand daughter when she c...</td>\n",
              "    </tr>\n",
              "  </tbody>\n",
              "</table>\n",
              "</div>"
            ],
            "text/plain": [
              "   reviews.rating                                       reviews.text\n",
              "0               1  This product so far has not disappointed. My c...\n",
              "1               1  great for beginner or experienced person. Boug...\n",
              "2               1  Inexpensive tablet for him to use and learn on...\n",
              "3               1  I've had my Fire HD 8 two weeks now and I love...\n",
              "4               1  I bought this for my grand daughter when she c..."
            ]
          },
          "metadata": {
            "tags": []
          },
          "execution_count": 5
        }
      ]
    },
    {
      "cell_type": "markdown",
      "metadata": {
        "id": "--WqsSW2VLwN"
      },
      "source": [
        "## **Data Exploration**"
      ]
    },
    {
      "cell_type": "code",
      "metadata": {
        "colab": {
          "base_uri": "https://localhost:8080/",
          "height": 0
        },
        "id": "7qHk9JTpVPuJ",
        "outputId": "3392174a-4847-4b41-ad91-87fbf0f9b075"
      },
      "source": [
        "# Check data balance \n",
        "dataset['reviews.rating'].value_counts().plot(kind='bar');"
      ],
      "execution_count": 6,
      "outputs": [
        {
          "output_type": "display_data",
          "data": {
            "image/png": "[encoded data removed]",
            "text/plain": [
              "<Figure size 432x288 with 1 Axes>"
            ]
          },
          "metadata": {
            "tags": [],
            "needs_background": "light"
          }
        }
      ]
    },
    {
      "cell_type": "markdown",
      "metadata": {
        "id": "ZzmC-7wfWTvP"
      },
      "source": [
        "***The data is highly unbalanced, it's highly biased towards positive values (1) and hence the results will not be accurate enough.***"
      ]
    },
    {
      "cell_type": "markdown",
      "metadata": {
        "id": "TLZTzhLzUBGy"
      },
      "source": [
        "## **Data preprocessing**"
      ]
    },
    {
      "cell_type": "code",
      "metadata": {
        "id": "8ag3WGkJTP_T"
      },
      "source": [
        "# Get the English stop words\n",
        "stop_words = set(stopwords.words('english')) \n",
        "my_stopwords = stopwords.words()\n",
        "\n",
        "# Converting to lowercase\n",
        "dataset['reviews.text'] = dataset['reviews.text'].apply(lambda x: x.lower())\n",
        "\n",
        "# Removing the stopwords from the dataset\n",
        "dataset['reviews.text'] = dataset['reviews.text'].apply(lambda x: ' '.join([item for item in word_tokenize(x) if item not in my_stopwords]))\n",
        "\n",
        "#dataset['reviews.text'] = dataset['reviews.text'].apply(lambda x: \" \".join(x))\n",
        "features = dataset['reviews.text']\n",
        "X_train, X_test, y_train, y_test = train_test_split(features, target, test_size=0.2)\n",
        "\n",
        "# Count Vectorize\n",
        "vectorizer = CountVectorizer()\n",
        "vectorizer.fit(X_train)\n",
        "\n",
        "# Transform the training data\n",
        "vector = vectorizer.transform(X_train)\n",
        "X_train = vector.toarray()\n",
        "\n",
        "# Transform the test data\n",
        "vector = vectorizer.transform(X_test)\n",
        "X_test = vector.toarray()"
      ],
      "execution_count": 7,
      "outputs": []
    },
    {
      "cell_type": "code",
      "metadata": {
        "colab": {
          "base_uri": "https://localhost:8080/",
          "height": 0
        },
        "id": "lPDVy3iqUM8X",
        "outputId": "01a668d3-a556-4ea9-aaa7-97a64f9c3e35"
      },
      "source": [
        "dataset.head()"
      ],
      "execution_count": 8,
      "outputs": [
        {
          "output_type": "execute_result",
          "data": {
            "text/html": [
              "<div>\n",
              "<style scoped>\n",
              "    .dataframe tbody tr th:only-of-type {\n",
              "        vertical-align: middle;\n",
              "    }\n",
              "\n",
              "    .dataframe tbody tr th {\n",
              "        vertical-align: top;\n",
              "    }\n",
              "\n",
              "    .dataframe thead th {\n",
              "        text-align: right;\n",
              "    }\n",
              "</style>\n",
              "<table border=\"1\" class=\"dataframe\">\n",
              "  <thead>\n",
              "    <tr style=\"text-align: right;\">\n",
              "      <th></th>\n",
              "      <th>reviews.rating</th>\n",
              "      <th>reviews.text</th>\n",
              "    </tr>\n",
              "  </thead>\n",
              "  <tbody>\n",
              "    <tr>\n",
              "      <th>0</th>\n",
              "      <td>1</td>\n",
              "      <td>product far disappointed . children love use l...</td>\n",
              "    </tr>\n",
              "    <tr>\n",
              "      <th>1</th>\n",
              "      <td>1</td>\n",
              "      <td>great beginner experienced person . bought gif...</td>\n",
              "    </tr>\n",
              "    <tr>\n",
              "      <th>2</th>\n",
              "      <td>1</td>\n",
              "      <td>inexpensive tablet use learn , step nabi . thr...</td>\n",
              "    </tr>\n",
              "    <tr>\n",
              "      <th>3</th>\n",
              "      <td>1</td>\n",
              "      <td>'ve fire hd 8 two weeks love . tablet great va...</td>\n",
              "    </tr>\n",
              "    <tr>\n",
              "      <th>4</th>\n",
              "      <td>1</td>\n",
              "      <td>bought grand daughter comes visit . set user ,...</td>\n",
              "    </tr>\n",
              "  </tbody>\n",
              "</table>\n",
              "</div>"
            ],
            "text/plain": [
              "   reviews.rating                                       reviews.text\n",
              "0               1  product far disappointed . children love use l...\n",
              "1               1  great beginner experienced person . bought gif...\n",
              "2               1  inexpensive tablet use learn , step nabi . thr...\n",
              "3               1  've fire hd 8 two weeks love . tablet great va...\n",
              "4               1  bought grand daughter comes visit . set user ,..."
            ]
          },
          "metadata": {
            "tags": []
          },
          "execution_count": 8
        }
      ]
    },
    {
      "cell_type": "markdown",
      "metadata": {
        "id": "sK70b3TyUNzf"
      },
      "source": [
        "# **Naive Bayes Model**"
      ]
    },
    {
      "cell_type": "code",
      "metadata": {
        "id": "g17BQNLudj6y",
        "colab": {
          "base_uri": "https://localhost:8080/"
        },
        "outputId": "cf29e5ed-0093-445c-8f73-1ceb624b4162"
      },
      "source": [
        "# Apply the classifier\n",
        "gnb = GaussianNB()\n",
        "gnb.fit(X_train, y_train)"
      ],
      "execution_count": 9,
      "outputs": [
        {
          "output_type": "execute_result",
          "data": {
            "text/plain": [
              "GaussianNB(priors=None, var_smoothing=1e-09)"
            ]
          },
          "metadata": {
            "tags": []
          },
          "execution_count": 9
        }
      ]
    },
    {
      "cell_type": "markdown",
      "metadata": {
        "id": "kUmmL9UwUXz1"
      },
      "source": [
        "## **Prediction**"
      ]
    },
    {
      "cell_type": "code",
      "metadata": {
        "id": "nAAIb4VmflEk"
      },
      "source": [
        "#Let's predict\n",
        "y_train_predicted = gnb.predict(X_train)\n",
        "y_test_predicted = gnb.predict(X_test)"
      ],
      "execution_count": 10,
      "outputs": []
    },
    {
      "cell_type": "markdown",
      "metadata": {
        "id": "SrV-9boHUcnV"
      },
      "source": [
        "## **Evaluation**"
      ]
    },
    {
      "cell_type": "markdown",
      "metadata": {
        "id": "CCSD2aDU7vMR"
      },
      "source": [
        "*Getting the confision matrix, recall, precision and f1-score*"
      ]
    },
    {
      "cell_type": "markdown",
      "metadata": {
        "id": "AoYR53EO76gw"
      },
      "source": [
        "**For training data**"
      ]
    },
    {
      "cell_type": "code",
      "metadata": {
        "colab": {
          "base_uri": "https://localhost:8080/"
        },
        "id": "rF2HVOeB7mRE",
        "outputId": "9123f2a5-9c7c-43dd-c242-9106432f8ae4"
      },
      "source": [
        "confusion_matrix(y_train, y_train_predicted)"
      ],
      "execution_count": 11,
      "outputs": [
        {
          "output_type": "execute_result",
          "data": {
            "text/plain": [
              "array([[  654,     0],\n",
              "       [10876, 16197]])"
            ]
          },
          "metadata": {
            "tags": []
          },
          "execution_count": 11
        }
      ]
    },
    {
      "cell_type": "code",
      "metadata": {
        "id": "tDx-InW1LdFs",
        "colab": {
          "base_uri": "https://localhost:8080/"
        },
        "outputId": "2e98d9b3-ca6c-4a59-fd30-0db6c800fa0e"
      },
      "source": [
        "print(f'f1 score = {f1_score(y_train, y_train_predicted)}')\n",
        "print(f'precision = {precision_score(y_train, y_train_predicted)}')\n",
        "print(f'recall = {recall_score(y_train, y_train_predicted)}')"
      ],
      "execution_count": 12,
      "outputs": [
        {
          "output_type": "stream",
          "text": [
            "f1 score = 0.7486480240351282\n",
            "precision = 1.0\n",
            "recall = 0.5982713404498947\n"
          ],
          "name": "stdout"
        }
      ]
    },
    {
      "cell_type": "markdown",
      "metadata": {
        "id": "c4IpLUzJ79RK"
      },
      "source": [
        "**For test data**"
      ]
    },
    {
      "cell_type": "code",
      "metadata": {
        "colab": {
          "base_uri": "https://localhost:8080/"
        },
        "id": "gDrR-xE47rZO",
        "outputId": "2abcad6a-018a-47af-c707-5f8b0fd40f6f"
      },
      "source": [
        "confusion_matrix(y_test, y_test_predicted)"
      ],
      "execution_count": 13,
      "outputs": [
        {
          "output_type": "execute_result",
          "data": {
            "text/plain": [
              "array([[  55,  103],\n",
              "       [2909, 3865]])"
            ]
          },
          "metadata": {
            "tags": []
          },
          "execution_count": 13
        }
      ]
    },
    {
      "cell_type": "code",
      "metadata": {
        "id": "hMBV0nQfSbah",
        "colab": {
          "base_uri": "https://localhost:8080/"
        },
        "outputId": "d555e020-19dc-4e19-e6c5-8066a6619544"
      },
      "source": [
        "print(f'f1 score = {f1_score(y_test, y_test_predicted)}')\n",
        "print(f'precision = {precision_score(y_test, y_test_predicted)}')\n",
        "print(f'recall = {recall_score(y_test, y_test_predicted)}')"
      ],
      "execution_count": 14,
      "outputs": [
        {
          "output_type": "stream",
          "text": [
            "f1 score = 0.71960528765593\n",
            "precision = 0.9740423387096774\n",
            "recall = 0.5705639208739297\n"
          ],
          "name": "stdout"
        }
      ]
    },
    {
      "cell_type": "code",
      "metadata": {
        "id": "j117-S0wL5Nf",
        "colab": {
          "base_uri": "https://localhost:8080/"
        },
        "outputId": "6183b9c1-4601-422c-f29f-a8de0efae315"
      },
      "source": [
        "test_case = ['the food is good and the price is great']\n",
        "vector = vectorizer.transform(test_case)\n",
        "vectorized_test = vector.toarray()\n",
        "print(gnb.predict(vectorized_test))"
      ],
      "execution_count": 15,
      "outputs": [
        {
          "output_type": "stream",
          "text": [
            "[1]\n"
          ],
          "name": "stdout"
        }
      ]
    },
    {
      "cell_type": "markdown",
      "metadata": {
        "id": "ICwd7uHOYbeg"
      },
      "source": [
        "**The resualtant percision, recall, f1-score are not efficient and that's mainly due to the extremely ubnablanced dataset.**  <br> \n",
        "I'm going to try bagging in order to partially compenstane the unbalanced dataset."
      ]
    },
    {
      "cell_type": "markdown",
      "metadata": {
        "id": "_b_CQKJL6yyy"
      },
      "source": [
        "# **Bagging with Naive Bayes Model**"
      ]
    },
    {
      "cell_type": "code",
      "metadata": {
        "colab": {
          "base_uri": "https://localhost:8080/"
        },
        "id": "TpEQACuJ69Cs",
        "outputId": "867c1786-5da1-4c47-dbd0-4299ca485058"
      },
      "source": [
        "#Create an object of the classifier.\n",
        "bbc = BalancedBaggingClassifier(base_estimator=GaussianNB(),\n",
        "                                sampling_strategy='auto',\n",
        "                                replacement=False)\n",
        "\n",
        "#Train the classifier.\n",
        "bbc.fit(X_train, y_train);"
      ],
      "execution_count": 16,
      "outputs": [
        {
          "output_type": "stream",
          "text": [
            "/usr/local/lib/python3.7/dist-packages/sklearn/utils/deprecation.py:87: FutureWarning: Function safe_indexing is deprecated; safe_indexing is deprecated in version 0.22 and will be removed in version 0.24.\n",
            "  warnings.warn(msg, category=FutureWarning)\n",
            "/usr/local/lib/python3.7/dist-packages/sklearn/utils/deprecation.py:87: FutureWarning: Function safe_indexing is deprecated; safe_indexing is deprecated in version 0.22 and will be removed in version 0.24.\n",
            "  warnings.warn(msg, category=FutureWarning)\n",
            "/usr/local/lib/python3.7/dist-packages/sklearn/utils/deprecation.py:87: FutureWarning: Function safe_indexing is deprecated; safe_indexing is deprecated in version 0.22 and will be removed in version 0.24.\n",
            "  warnings.warn(msg, category=FutureWarning)\n",
            "/usr/local/lib/python3.7/dist-packages/sklearn/utils/deprecation.py:87: FutureWarning: Function safe_indexing is deprecated; safe_indexing is deprecated in version 0.22 and will be removed in version 0.24.\n",
            "  warnings.warn(msg, category=FutureWarning)\n",
            "/usr/local/lib/python3.7/dist-packages/sklearn/utils/deprecation.py:87: FutureWarning: Function safe_indexing is deprecated; safe_indexing is deprecated in version 0.22 and will be removed in version 0.24.\n",
            "  warnings.warn(msg, category=FutureWarning)\n",
            "/usr/local/lib/python3.7/dist-packages/sklearn/utils/deprecation.py:87: FutureWarning: Function safe_indexing is deprecated; safe_indexing is deprecated in version 0.22 and will be removed in version 0.24.\n",
            "  warnings.warn(msg, category=FutureWarning)\n",
            "/usr/local/lib/python3.7/dist-packages/sklearn/utils/deprecation.py:87: FutureWarning: Function safe_indexing is deprecated; safe_indexing is deprecated in version 0.22 and will be removed in version 0.24.\n",
            "  warnings.warn(msg, category=FutureWarning)\n",
            "/usr/local/lib/python3.7/dist-packages/sklearn/utils/deprecation.py:87: FutureWarning: Function safe_indexing is deprecated; safe_indexing is deprecated in version 0.22 and will be removed in version 0.24.\n",
            "  warnings.warn(msg, category=FutureWarning)\n",
            "/usr/local/lib/python3.7/dist-packages/sklearn/utils/deprecation.py:87: FutureWarning: Function safe_indexing is deprecated; safe_indexing is deprecated in version 0.22 and will be removed in version 0.24.\n",
            "  warnings.warn(msg, category=FutureWarning)\n",
            "/usr/local/lib/python3.7/dist-packages/sklearn/utils/deprecation.py:87: FutureWarning: Function safe_indexing is deprecated; safe_indexing is deprecated in version 0.22 and will be removed in version 0.24.\n",
            "  warnings.warn(msg, category=FutureWarning)\n"
          ],
          "name": "stderr"
        }
      ]
    },
    {
      "cell_type": "code",
      "metadata": {
        "id": "nb4SfC2r7kEq"
      },
      "source": [
        "#Let's predict\n",
        "y_train_predicted = bbc.predict(X_train)\n",
        "y_test_predicted = bbc.predict(X_test)"
      ],
      "execution_count": 27,
      "outputs": []
    },
    {
      "cell_type": "markdown",
      "metadata": {
        "id": "BjGV2NqY8EV5"
      },
      "source": [
        "**For training data**"
      ]
    },
    {
      "cell_type": "code",
      "metadata": {
        "colab": {
          "base_uri": "https://localhost:8080/"
        },
        "id": "m4euCLAm8LLQ",
        "outputId": "0c2458e0-aa71-4822-81c9-d2b53a9f11cb"
      },
      "source": [
        "print(classification_report(y_train, y_train_predicted))"
      ],
      "execution_count": 28,
      "outputs": [
        {
          "output_type": "stream",
          "text": [
            "              precision    recall  f1-score   support\n",
            "\n",
            "           0       0.13      0.84      0.22       654\n",
            "           1       1.00      0.86      0.92     27073\n",
            "\n",
            "    accuracy                           0.86     27727\n",
            "   macro avg       0.56      0.85      0.57     27727\n",
            "weighted avg       0.98      0.86      0.91     27727\n",
            "\n"
          ],
          "name": "stdout"
        }
      ]
    },
    {
      "cell_type": "code",
      "metadata": {
        "colab": {
          "base_uri": "https://localhost:8080/"
        },
        "id": "EFN5iBbKBe7W",
        "outputId": "41c20336-0165-4c68-de45-ddabfcc7777b"
      },
      "source": [
        "confusion_matrix(y_train, y_train_predicted)"
      ],
      "execution_count": 31,
      "outputs": [
        {
          "output_type": "execute_result",
          "data": {
            "text/plain": [
              "array([[  552,   102],\n",
              "       [ 3775, 23298]])"
            ]
          },
          "metadata": {
            "tags": []
          },
          "execution_count": 31
        }
      ]
    },
    {
      "cell_type": "markdown",
      "metadata": {
        "id": "0GfMEEy-8He_"
      },
      "source": [
        "**For test data**"
      ]
    },
    {
      "cell_type": "code",
      "metadata": {
        "colab": {
          "base_uri": "https://localhost:8080/"
        },
        "id": "Km1UcCKZ8Npx",
        "outputId": "cc2c083c-cd86-432d-b9f2-4b671e37cb46"
      },
      "source": [
        "print(classification_report(y_test, y_test_predicted))"
      ],
      "execution_count": 29,
      "outputs": [
        {
          "output_type": "stream",
          "text": [
            "              precision    recall  f1-score   support\n",
            "\n",
            "           0       0.07      0.48      0.13       158\n",
            "           1       0.99      0.86      0.92      6774\n",
            "\n",
            "    accuracy                           0.85      6932\n",
            "   macro avg       0.53      0.67      0.52      6932\n",
            "weighted avg       0.97      0.85      0.90      6932\n",
            "\n"
          ],
          "name": "stdout"
        }
      ]
    },
    {
      "cell_type": "code",
      "metadata": {
        "colab": {
          "base_uri": "https://localhost:8080/"
        },
        "id": "T63-xdjLA0fj",
        "outputId": "4278b709-d618-41b3-ff87-eebfafbc1170"
      },
      "source": [
        "confusion_matrix(y_test, y_test_predicted)"
      ],
      "execution_count": 30,
      "outputs": [
        {
          "output_type": "execute_result",
          "data": {
            "text/plain": [
              "array([[  76,   82],\n",
              "       [ 953, 5821]])"
            ]
          },
          "metadata": {
            "tags": []
          },
          "execution_count": 30
        }
      ]
    },
    {
      "cell_type": "markdown",
      "metadata": {
        "id": "zMT-tIyl8a90"
      },
      "source": [
        "**By using bagging, we obviously increased the model accuracy.**"
      ]
    },
    {
      "cell_type": "markdown",
      "metadata": {
        "id": "5uMjDHgNj7f0"
      },
      "source": [
        "# **Logisitc Regression Model**"
      ]
    },
    {
      "cell_type": "code",
      "metadata": {
        "id": "clMAgnGxkJsC",
        "colab": {
          "base_uri": "https://localhost:8080/"
        },
        "outputId": "6442e126-50ef-43e5-be0f-f075bbe513c6"
      },
      "source": [
        "clf = LogisticRegression()\n",
        "clf.fit(X_train, y_train)"
      ],
      "execution_count": 20,
      "outputs": [
        {
          "output_type": "execute_result",
          "data": {
            "text/plain": [
              "LogisticRegression(C=1.0, class_weight=None, dual=False, fit_intercept=True,\n",
              "                   intercept_scaling=1, l1_ratio=None, max_iter=100,\n",
              "                   multi_class='auto', n_jobs=None, penalty='l2',\n",
              "                   random_state=None, solver='lbfgs', tol=0.0001, verbose=0,\n",
              "                   warm_start=False)"
            ]
          },
          "metadata": {
            "tags": []
          },
          "execution_count": 20
        }
      ]
    },
    {
      "cell_type": "code",
      "metadata": {
        "id": "gFZa6-tqktGl"
      },
      "source": [
        "#Let's predict\n",
        "y_train_predicted = clf.predict(X_train)\n",
        "y_test_predicted = clf.predict(X_test)"
      ],
      "execution_count": 21,
      "outputs": []
    },
    {
      "cell_type": "code",
      "metadata": {
        "id": "4hIVxf-pkyZi",
        "colab": {
          "base_uri": "https://localhost:8080/"
        },
        "outputId": "d418f964-a74c-40a3-aded-357c2c55b4c6"
      },
      "source": [
        "print(classification_report(y_train, y_train_predicted))"
      ],
      "execution_count": 22,
      "outputs": [
        {
          "output_type": "stream",
          "text": [
            "              precision    recall  f1-score   support\n",
            "\n",
            "           0       0.98      0.60      0.75       654\n",
            "           1       0.99      1.00      1.00     27073\n",
            "\n",
            "    accuracy                           0.99     27727\n",
            "   macro avg       0.99      0.80      0.87     27727\n",
            "weighted avg       0.99      0.99      0.99     27727\n",
            "\n"
          ],
          "name": "stdout"
        }
      ]
    },
    {
      "cell_type": "code",
      "metadata": {
        "id": "s4W_4Vbpk4kz",
        "colab": {
          "base_uri": "https://localhost:8080/"
        },
        "outputId": "a335b910-8f78-439e-a836-133faf6e521d"
      },
      "source": [
        "print(classification_report(y_test, y_test_predicted))"
      ],
      "execution_count": 23,
      "outputs": [
        {
          "output_type": "stream",
          "text": [
            "              precision    recall  f1-score   support\n",
            "\n",
            "           0       0.54      0.18      0.27       158\n",
            "           1       0.98      1.00      0.99      6774\n",
            "\n",
            "    accuracy                           0.98      6932\n",
            "   macro avg       0.76      0.59      0.63      6932\n",
            "weighted avg       0.97      0.98      0.97      6932\n",
            "\n"
          ],
          "name": "stdout"
        }
      ]
    },
    {
      "cell_type": "markdown",
      "metadata": {
        "id": "ggJ252vij_3w"
      },
      "source": [
        "**The classification using Logisitic Regression seems to get better results than Naive Bayes but still the problem of unbalanced dataset reduces the credibility for such a model**"
      ]
    }
  ]
}