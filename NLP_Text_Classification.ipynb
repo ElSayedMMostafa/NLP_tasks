{
 "cells": [
  {
   "cell_type": "markdown",
   "metadata": {},
   "source": [
    "<img src=\"zc_logo.png\" alt=\"drawing\" width=\"100\" height=\"100\" align='center' style=\"float: left;\" />\n",
    "\n",
    "**University of Science and Technology UST,  Zewail City**<br>\n",
    "**Communications and Information Engineering Program**<br>\n",
    "**Natural Language Processing - CIE 553**<br>\n",
    "**Text Classification Lab**<br>"
   ]
  },
  {
   "cell_type": "markdown",
   "metadata": {
    "id": "oNfPWt3emAnb"
   },
   "source": [
    "*Name:* **Elsayed Mohammed Elsayed Mostafa**<br>\n",
    "*ID:* **201700316**<br>\n",
    "*E-mail:* s-ayedmmostafa@zewailcity.edy.eg<br>"
   ]
  },
  {
   "cell_type": "markdown",
   "metadata": {
    "id": "1xpO-gbzEAz-"
   },
   "source": [
    "## **Imports and Uploads**"
   ]
  },
  {
   "cell_type": "code",
   "execution_count": 4,
   "metadata": {
    "colab": {
     "base_uri": "https://localhost:8080/"
    },
    "id": "PdPGX0HfTC6T",
    "outputId": "feb4bb73-127a-49cb-d9a7-c29b6746a044"
   },
   "outputs": [
    {
     "name": "stderr",
     "output_type": "stream",
     "text": [
      "[nltk_data] Downloading package stopwords to\n",
      "[nltk_data]     /home/elsayed/nltk_data...\n",
      "[nltk_data]   Unzipping corpora/stopwords.zip.\n",
      "[nltk_data] Downloading package punkt to /home/elsayed/nltk_data...\n",
      "[nltk_data]   Unzipping tokenizers/punkt.zip.\n"
     ]
    }
   ],
   "source": [
    "import re\n",
    "import pickle\n",
    "from sklearn.model_selection import train_test_split\n",
    "import pandas as pd\n",
    "import nltk\n",
    "from nltk.corpus import stopwords\n",
    "nltk.download('stopwords')\n",
    "nltk.download('punkt')\n",
    "from nltk.tokenize import word_tokenize\n",
    "from sklearn.feature_extraction.text import CountVectorizer\n",
    "from sklearn.naive_bayes import GaussianNB\n",
    "from sklearn.linear_model import LogisticRegression\n",
    "from sklearn.ensemble import BaggingClassifier\n",
    "from sklearn.metrics import precision_score, recall_score, accuracy_score, f1_score, classification_report"
   ]
  },
  {
   "cell_type": "code",
   "execution_count": 5,
   "metadata": {
    "colab": {
     "base_uri": "https://localhost:8080/"
    },
    "id": "svEhd87YWGXM",
    "outputId": "d0893c67-8145-4c81-8332-658c8b5dd853"
   },
   "outputs": [
    {
     "data": {
      "text/html": [
       "<div>\n",
       "<style scoped>\n",
       "    .dataframe tbody tr th:only-of-type {\n",
       "        vertical-align: middle;\n",
       "    }\n",
       "\n",
       "    .dataframe tbody tr th {\n",
       "        vertical-align: top;\n",
       "    }\n",
       "\n",
       "    .dataframe thead th {\n",
       "        text-align: right;\n",
       "    }\n",
       "</style>\n",
       "<table border=\"1\" class=\"dataframe\">\n",
       "  <thead>\n",
       "    <tr style=\"text-align: right;\">\n",
       "      <th></th>\n",
       "      <th>reviews.rating</th>\n",
       "      <th>reviews.text</th>\n",
       "    </tr>\n",
       "  </thead>\n",
       "  <tbody>\n",
       "    <tr>\n",
       "      <th>0</th>\n",
       "      <td>1</td>\n",
       "      <td>This product so far has not disappointed. My c...</td>\n",
       "    </tr>\n",
       "    <tr>\n",
       "      <th>1</th>\n",
       "      <td>1</td>\n",
       "      <td>great for beginner or experienced person. Boug...</td>\n",
       "    </tr>\n",
       "    <tr>\n",
       "      <th>2</th>\n",
       "      <td>1</td>\n",
       "      <td>Inexpensive tablet for him to use and learn on...</td>\n",
       "    </tr>\n",
       "    <tr>\n",
       "      <th>3</th>\n",
       "      <td>1</td>\n",
       "      <td>I've had my Fire HD 8 two weeks now and I love...</td>\n",
       "    </tr>\n",
       "    <tr>\n",
       "      <th>4</th>\n",
       "      <td>1</td>\n",
       "      <td>I bought this for my grand daughter when she c...</td>\n",
       "    </tr>\n",
       "  </tbody>\n",
       "</table>\n",
       "</div>"
      ],
      "text/plain": [
       "   reviews.rating                                       reviews.text\n",
       "0               1  This product so far has not disappointed. My c...\n",
       "1               1  great for beginner or experienced person. Boug...\n",
       "2               1  Inexpensive tablet for him to use and learn on...\n",
       "3               1  I've had my Fire HD 8 two weeks now and I love...\n",
       "4               1  I bought this for my grand daughter when she c..."
      ]
     },
     "execution_count": 5,
     "metadata": {},
     "output_type": "execute_result"
    }
   ],
   "source": [
    "dataset = pd.read_csv('reviews.csv')\n",
    "target = dataset['reviews.rating']\n",
    "dataset.head()"
   ]
  },
  {
   "cell_type": "markdown",
   "metadata": {
    "id": "--WqsSW2VLwN"
   },
   "source": [
    "## **Data Exploration**"
   ]
  },
  {
   "cell_type": "code",
   "execution_count": 6,
   "metadata": {
    "colab": {
     "base_uri": "https://localhost:8080/"
    },
    "id": "7qHk9JTpVPuJ",
    "outputId": "00825892-182d-4480-9637-6a5f035ce78a"
   },
   "outputs": [
    {
     "data": {
      "image/png": "[encoded data removed]",
      "text/plain": [
       "<Figure size 432x288 with 1 Axes>"
      ]
     },
     "metadata": {
      "needs_background": "light"
     },
     "output_type": "display_data"
    }
   ],
   "source": [
    "# Check data balance \n",
    "dataset['reviews.rating'].value_counts().plot(kind='bar');"
   ]
  },
  {
   "cell_type": "markdown",
   "metadata": {
    "id": "ZzmC-7wfWTvP"
   },
   "source": [
    "***The data is highly unbalanced, it's highly biased towards positive values (1) and hence the results will not be accurate enough.***"
   ]
  },
  {
   "cell_type": "markdown",
   "metadata": {
    "id": "TLZTzhLzUBGy"
   },
   "source": [
    "## **Data pre-processing**"
   ]
  },
  {
   "cell_type": "code",
   "execution_count": 7,
   "metadata": {
    "id": "8ag3WGkJTP_T"
   },
   "outputs": [],
   "source": [
    "# Get the English stop words\n",
    "stop_words = set(stopwords.words('english')) \n",
    "my_stopwords = stopwords.words()\n",
    "\n",
    "# Converting to lowercase\n",
    "dataset['reviews.text'] = dataset['reviews.text'].apply(lambda x: x.lower())\n",
    "\n",
    "# Removing the stopwords from the dataset\n",
    "dataset['reviews.text'] = dataset['reviews.text'].apply(lambda x: ' '.join([item for item in word_tokenize(x) if item not in my_stopwords]))\n",
    "\n",
    "#dataset['reviews.text'] = dataset['reviews.text'].apply(lambda x: \" \".join(x))\n",
    "features = dataset['reviews.text']\n",
    "X_train, X_test, y_train, y_test = train_test_split(features, target, test_size=0.2)\n",
    "\n",
    "# Count Vectorize\n",
    "vectorizer = CountVectorizer()\n",
    "vectorizer.fit(X_train)\n",
    "\n",
    "# Transform the training data\n",
    "vector = vectorizer.transform(X_train)\n",
    "X_train = vector.toarray()\n",
    "\n",
    "# Transform the test data\n",
    "vector = vectorizer.transform(X_test)\n",
    "X_test = vector.toarray()"
   ]
  },
  {
   "cell_type": "code",
   "execution_count": 8,
   "metadata": {
    "colab": {
     "base_uri": "https://localhost:8080/"
    },
    "id": "lPDVy3iqUM8X",
    "outputId": "2e09e740-e4d4-4488-d224-aa9cb2195199"
   },
   "outputs": [
    {
     "data": {
      "text/html": [
       "<div>\n",
       "<style scoped>\n",
       "    .dataframe tbody tr th:only-of-type {\n",
       "        vertical-align: middle;\n",
       "    }\n",
       "\n",
       "    .dataframe tbody tr th {\n",
       "        vertical-align: top;\n",
       "    }\n",
       "\n",
       "    .dataframe thead th {\n",
       "        text-align: right;\n",
       "    }\n",
       "</style>\n",
       "<table border=\"1\" class=\"dataframe\">\n",
       "  <thead>\n",
       "    <tr style=\"text-align: right;\">\n",
       "      <th></th>\n",
       "      <th>reviews.rating</th>\n",
       "      <th>reviews.text</th>\n",
       "    </tr>\n",
       "  </thead>\n",
       "  <tbody>\n",
       "    <tr>\n",
       "      <th>0</th>\n",
       "      <td>1</td>\n",
       "      <td>product far disappointed . children love use l...</td>\n",
       "    </tr>\n",
       "    <tr>\n",
       "      <th>1</th>\n",
       "      <td>1</td>\n",
       "      <td>great beginner experienced person . bought gif...</td>\n",
       "    </tr>\n",
       "    <tr>\n",
       "      <th>2</th>\n",
       "      <td>1</td>\n",
       "      <td>inexpensive tablet use learn , step nabi . thr...</td>\n",
       "    </tr>\n",
       "    <tr>\n",
       "      <th>3</th>\n",
       "      <td>1</td>\n",
       "      <td>'ve fire hd 8 two weeks love . tablet great va...</td>\n",
       "    </tr>\n",
       "    <tr>\n",
       "      <th>4</th>\n",
       "      <td>1</td>\n",
       "      <td>bought grand daughter comes visit . set user ,...</td>\n",
       "    </tr>\n",
       "  </tbody>\n",
       "</table>\n",
       "</div>"
      ],
      "text/plain": [
       "   reviews.rating                                       reviews.text\n",
       "0               1  product far disappointed . children love use l...\n",
       "1               1  great beginner experienced person . bought gif...\n",
       "2               1  inexpensive tablet use learn , step nabi . thr...\n",
       "3               1  've fire hd 8 two weeks love . tablet great va...\n",
       "4               1  bought grand daughter comes visit . set user ,..."
      ]
     },
     "execution_count": 8,
     "metadata": {},
     "output_type": "execute_result"
    }
   ],
   "source": [
    "dataset.head()"
   ]
  },
  {
   "cell_type": "markdown",
   "metadata": {
    "id": "sK70b3TyUNzf"
   },
   "source": [
    "# **Naive Bayes Model**"
   ]
  },
  {
   "cell_type": "code",
   "execution_count": 9,
   "metadata": {
    "colab": {
     "base_uri": "https://localhost:8080/"
    },
    "id": "g17BQNLudj6y",
    "outputId": "215d2370-d4dc-4f13-81a0-aeef0f276eba"
   },
   "outputs": [
    {
     "data": {
      "text/plain": [
       "GaussianNB()"
      ]
     },
     "execution_count": 9,
     "metadata": {},
     "output_type": "execute_result"
    }
   ],
   "source": [
    "# Apply the classifier\n",
    "gnb = GaussianNB()\n",
    "gnb.fit(X_train, y_train)"
   ]
  },
  {
   "cell_type": "markdown",
   "metadata": {
    "id": "kUmmL9UwUXz1"
   },
   "source": [
    "## **Prediction**"
   ]
  },
  {
   "cell_type": "code",
   "execution_count": 10,
   "metadata": {
    "id": "nAAIb4VmflEk"
   },
   "outputs": [],
   "source": [
    "#Let's predict\n",
    "y_train_predicted = gnb.predict(X_train)\n",
    "y_test_predicted = gnb.predict(X_test)"
   ]
  },
  {
   "cell_type": "markdown",
   "metadata": {
    "id": "SrV-9boHUcnV"
   },
   "source": [
    "## **Evaluation**"
   ]
  },
  {
   "cell_type": "code",
   "execution_count": 11,
   "metadata": {
    "id": "tDx-InW1LdFs"
   },
   "outputs": [
    {
     "name": "stdout",
     "output_type": "stream",
     "text": [
      "f1 score = 0.755485101201553\n",
      "precision = 1.0\n",
      "recall = 0.6070518737308473\n"
     ]
    }
   ],
   "source": [
    "print(f'f1 score = {f1_score(y_train, y_train_predicted)}')\n",
    "print(f'precision = {precision_score(y_train, y_train_predicted)}')\n",
    "print(f'recall = {recall_score(y_train, y_train_predicted)}')"
   ]
  },
  {
   "cell_type": "code",
   "execution_count": 12,
   "metadata": {
    "id": "hMBV0nQfSbah"
   },
   "outputs": [
    {
     "name": "stdout",
     "output_type": "stream",
     "text": [
      "f1 score = 0.7103681442524418\n",
      "precision = 0.9732372619660319\n",
      "recall = 0.5593019816622301\n"
     ]
    }
   ],
   "source": [
    "print(f'f1 score = {f1_score(y_test, y_test_predicted)}')\n",
    "print(f'precision = {precision_score(y_test, y_test_predicted)}')\n",
    "print(f'recall = {recall_score(y_test, y_test_predicted)}')"
   ]
  },
  {
   "cell_type": "code",
   "execution_count": 13,
   "metadata": {
    "id": "j117-S0wL5Nf"
   },
   "outputs": [
    {
     "name": "stdout",
     "output_type": "stream",
     "text": [
      "[1]\n"
     ]
    }
   ],
   "source": [
    "test_case = ['the food is good and the price is great']\n",
    "vector = vectorizer.transform(test_case)\n",
    "vectorized_test = vector.toarray()\n",
    "print(gnb.predict(vectorized_test))"
   ]
  },
  {
   "cell_type": "markdown",
   "metadata": {
    "id": "ICwd7uHOYbeg"
   },
   "source": [
    "**The resualtant percision, recall, f1-score are not efficient and that's mainly due to the extremely ubnablanced dataset.**  <br> \n",
    "I'm going to try bagging in order to partially compenstane the unbalanced dataset."
   ]
  },
  {
   "cell_type": "markdown",
   "metadata": {
    "id": "_b_CQKJL6yyy"
   },
   "source": [
    "# **Bagging with Naive Bayes Model**"
   ]
  },
  {
   "cell_type": "code",
   "execution_count": null,
   "metadata": {
    "colab": {
     "base_uri": "https://localhost:8080/"
    },
    "id": "TpEQACuJ69Cs",
    "outputId": "c5187d78-e6fe-4890-de90-f6acb480cce5"
   },
   "outputs": [],
   "source": [
    "#Create an object of the classifier.\n",
    "bbc = BaggingClassifier(base_estimator=GaussianNB(),\n",
    "                                n_estimators=10,\n",
    "                                bootstrap=False)\n",
    "\n",
    "#Train the classifier.\n",
    "bbc.fit(X_train, y_train);"
   ]
  },
  {
   "cell_type": "code",
   "execution_count": null,
   "metadata": {
    "colab": {
     "base_uri": "https://localhost:8080/"
    },
    "id": "nb4SfC2r7kEq",
    "outputId": "9db7bacc-f1d5-41fb-a99e-bb9087986754"
   },
   "outputs": [],
   "source": [
    "#Let's predict\n",
    "y_train_predicted = bbc.predict(X_train)\n",
    "y_test_predicted = bbc.predict(X_test)\n",
    "print(classification_report(y_train, y_train_predicted))\n",
    "print(classification_report(y_test, y_test_predicted))"
   ]
  },
  {
   "cell_type": "markdown",
   "metadata": {
    "id": "zMT-tIyl8a90"
   },
   "source": [
    "**By using bagging, we obviously increased the model accuracy.**"
   ]
  },
  {
   "cell_type": "markdown",
   "metadata": {
    "id": "5uMjDHgNj7f0"
   },
   "source": [
    "# **Logisitc Regression Model**"
   ]
  },
  {
   "cell_type": "code",
   "execution_count": null,
   "metadata": {
    "colab": {
     "base_uri": "https://localhost:8080/"
    },
    "id": "clMAgnGxkJsC",
    "outputId": "5a68812c-9682-4f6a-a634-f9bbb17267e2"
   },
   "outputs": [
    {
     "data": {
      "text/plain": [
       "LogisticRegression(C=1.0, class_weight=None, dual=False, fit_intercept=True,\n",
       "                   intercept_scaling=1, l1_ratio=None, max_iter=100,\n",
       "                   multi_class='auto', n_jobs=None, penalty='l2',\n",
       "                   random_state=None, solver='lbfgs', tol=0.0001, verbose=0,\n",
       "                   warm_start=False)"
      ]
     },
     "execution_count": 22,
     "metadata": {
      "tags": []
     },
     "output_type": "execute_result"
    }
   ],
   "source": [
    "clf = LogisticRegression()\n",
    "clf.fit(X_train, y_train)"
   ]
  },
  {
   "cell_type": "code",
   "execution_count": null,
   "metadata": {
    "id": "gFZa6-tqktGl"
   },
   "outputs": [],
   "source": [
    "#Let's predict\n",
    "y_train_predicted = clf.predict(X_train)\n",
    "y_test_predicted = clf.predict(X_test)"
   ]
  },
  {
   "cell_type": "code",
   "execution_count": null,
   "metadata": {
    "colab": {
     "base_uri": "https://localhost:8080/"
    },
    "id": "4hIVxf-pkyZi",
    "outputId": "38c89608-f3f3-41ef-a609-447250d0222f"
   },
   "outputs": [
    {
     "name": "stdout",
     "output_type": "stream",
     "text": [
      "              precision    recall  f1-score   support\n",
      "\n",
      "           0       0.98      0.59      0.74       658\n",
      "           1       0.99      1.00      0.99     27069\n",
      "\n",
      "    accuracy                           0.99     27727\n",
      "   macro avg       0.99      0.80      0.87     27727\n",
      "weighted avg       0.99      0.99      0.99     27727\n",
      "\n"
     ]
    }
   ],
   "source": [
    "print(classification_report(y_train, y_train_predicted))"
   ]
  },
  {
   "cell_type": "code",
   "execution_count": null,
   "metadata": {
    "colab": {
     "base_uri": "https://localhost:8080/"
    },
    "id": "s4W_4Vbpk4kz",
    "outputId": "48870724-c25a-4f3f-bf16-9cf0c3fe6010"
   },
   "outputs": [
    {
     "name": "stdout",
     "output_type": "stream",
     "text": [
      "              precision    recall  f1-score   support\n",
      "\n",
      "           0       0.41      0.20      0.27       154\n",
      "           1       0.98      0.99      0.99      6778\n",
      "\n",
      "    accuracy                           0.98      6932\n",
      "   macro avg       0.69      0.60      0.63      6932\n",
      "weighted avg       0.97      0.98      0.97      6932\n",
      "\n"
     ]
    }
   ],
   "source": [
    "print(classification_report(y_test, y_test_predicted))"
   ]
  }
 ],
 "metadata": {
  "colab": {
   "name": "NLP Text Classification.ipynb",
   "provenance": [],
   "toc_visible": true
  },
  "kernelspec": {
   "display_name": "Python 3",
   "language": "python",
   "name": "python3"
  },
  "language_info": {
   "codemirror_mode": {
    "name": "ipython",
    "version": 3
   },
   "file_extension": ".py",
   "mimetype": "text/x-python",
   "name": "python",
   "nbconvert_exporter": "python",
   "pygments_lexer": "ipython3",
   "version": "3.8.5"
  }
 },
 "nbformat": 4,
 "nbformat_minor": 1
}
